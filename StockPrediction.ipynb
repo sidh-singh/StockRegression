{
  "nbformat": 4,
  "nbformat_minor": 0,
  "metadata": {
    "colab": {
      "name": "Copy of StockPrediction.ipynb",
      "provenance": [],
      "authorship_tag": "ABX9TyPAo8giOodqPaTJdEusI8KK",
      "include_colab_link": true
    },
    "kernelspec": {
      "name": "python3",
      "display_name": "Python 3"
    },
    "language_info": {
      "name": "python"
    }
  },
  "cells": [
    {
      "cell_type": "markdown",
      "metadata": {
        "id": "view-in-github",
        "colab_type": "text"
      },
      "source": [
        "<a href=\"https://colab.research.google.com/github/sidh-singh/StockRegression/blob/main/StockPrediction.ipynb\" target=\"_parent\"><img src=\"https://colab.research.google.com/assets/colab-badge.svg\" alt=\"Open In Colab\"/></a>"
      ]
    },
    {
      "cell_type": "markdown",
      "metadata": {
        "id": "eNaUUeVNnqrh"
      },
      "source": [
        "Stock Prediction Machine Learning"
      ]
    },
    {
      "cell_type": "code",
      "metadata": {
        "id": "6OM0epLYnybP",
        "colab": {
          "base_uri": "https://localhost:8080/"
        },
        "outputId": "195a1745-059c-4561-85ca-36e9db5f1377"
      },
      "source": [
        "!pip install yfinance"
      ],
      "execution_count": null,
      "outputs": [
        {
          "output_type": "stream",
          "text": [
            "Requirement already satisfied: yfinance in /usr/local/lib/python3.7/dist-packages (0.1.63)\n",
            "Requirement already satisfied: pandas>=0.24 in /usr/local/lib/python3.7/dist-packages (from yfinance) (1.1.5)\n",
            "Requirement already satisfied: lxml>=4.5.1 in /usr/local/lib/python3.7/dist-packages (from yfinance) (4.6.3)\n",
            "Requirement already satisfied: multitasking>=0.0.7 in /usr/local/lib/python3.7/dist-packages (from yfinance) (0.0.9)\n",
            "Requirement already satisfied: numpy>=1.15 in /usr/local/lib/python3.7/dist-packages (from yfinance) (1.19.5)\n",
            "Requirement already satisfied: requests>=2.20 in /usr/local/lib/python3.7/dist-packages (from yfinance) (2.23.0)\n",
            "Requirement already satisfied: python-dateutil>=2.7.3 in /usr/local/lib/python3.7/dist-packages (from pandas>=0.24->yfinance) (2.8.2)\n",
            "Requirement already satisfied: pytz>=2017.2 in /usr/local/lib/python3.7/dist-packages (from pandas>=0.24->yfinance) (2018.9)\n",
            "Requirement already satisfied: six>=1.5 in /usr/local/lib/python3.7/dist-packages (from python-dateutil>=2.7.3->pandas>=0.24->yfinance) (1.15.0)\n",
            "Requirement already satisfied: chardet<4,>=3.0.2 in /usr/local/lib/python3.7/dist-packages (from requests>=2.20->yfinance) (3.0.4)\n",
            "Requirement already satisfied: urllib3!=1.25.0,!=1.25.1,<1.26,>=1.21.1 in /usr/local/lib/python3.7/dist-packages (from requests>=2.20->yfinance) (1.24.3)\n",
            "Requirement already satisfied: idna<3,>=2.5 in /usr/local/lib/python3.7/dist-packages (from requests>=2.20->yfinance) (2.10)\n",
            "Requirement already satisfied: certifi>=2017.4.17 in /usr/local/lib/python3.7/dist-packages (from requests>=2.20->yfinance) (2021.5.30)\n"
          ],
          "name": "stdout"
        }
      ]
    },
    {
      "cell_type": "code",
      "metadata": {
        "id": "zh0EglEpnWW7"
      },
      "source": [
        "import math\n",
        "import pandas_datareader as web\n",
        "import numpy as np\n",
        "import pandas as pd\n",
        "from sklearn.preprocessing import MinMaxScaler\n",
        "import yfinance as yf\n",
        "from keras.models import Sequential\n",
        "from keras.layers import Dense, LSTM\n",
        "import matplotlib.pyplot as plt\n",
        "plt.style.use('fivethirtyeight')\n"
      ],
      "execution_count": null,
      "outputs": []
    },
    {
      "cell_type": "code",
      "metadata": {
        "id": "ZxpqFwSioyRi",
        "colab": {
          "base_uri": "https://localhost:8080/",
          "height": 448
        },
        "outputId": "a6267cfa-0c63-49c3-8ba9-47ae840935db"
      },
      "source": [
        "data = yf.download('EURUSD=X',start='2000-01-01',end='2021-08-05')\n",
        "data"
      ],
      "execution_count": null,
      "outputs": [
        {
          "output_type": "stream",
          "text": [
            "\r[*********************100%***********************]  1 of 1 completed\n"
          ],
          "name": "stdout"
        },
        {
          "output_type": "execute_result",
          "data": {
            "text/html": [
              "<div>\n",
              "<style scoped>\n",
              "    .dataframe tbody tr th:only-of-type {\n",
              "        vertical-align: middle;\n",
              "    }\n",
              "\n",
              "    .dataframe tbody tr th {\n",
              "        vertical-align: top;\n",
              "    }\n",
              "\n",
              "    .dataframe thead th {\n",
              "        text-align: right;\n",
              "    }\n",
              "</style>\n",
              "<table border=\"1\" class=\"dataframe\">\n",
              "  <thead>\n",
              "    <tr style=\"text-align: right;\">\n",
              "      <th></th>\n",
              "      <th>Open</th>\n",
              "      <th>High</th>\n",
              "      <th>Low</th>\n",
              "      <th>Close</th>\n",
              "      <th>Adj Close</th>\n",
              "      <th>Volume</th>\n",
              "    </tr>\n",
              "    <tr>\n",
              "      <th>Date</th>\n",
              "      <th></th>\n",
              "      <th></th>\n",
              "      <th></th>\n",
              "      <th></th>\n",
              "      <th></th>\n",
              "      <th></th>\n",
              "    </tr>\n",
              "  </thead>\n",
              "  <tbody>\n",
              "    <tr>\n",
              "      <th>2003-12-01</th>\n",
              "      <td>1.203398</td>\n",
              "      <td>1.204007</td>\n",
              "      <td>1.194401</td>\n",
              "      <td>1.196501</td>\n",
              "      <td>1.196501</td>\n",
              "      <td>0</td>\n",
              "    </tr>\n",
              "    <tr>\n",
              "      <th>2003-12-02</th>\n",
              "      <td>1.196101</td>\n",
              "      <td>1.210903</td>\n",
              "      <td>1.194600</td>\n",
              "      <td>1.208897</td>\n",
              "      <td>1.208897</td>\n",
              "      <td>0</td>\n",
              "    </tr>\n",
              "    <tr>\n",
              "      <th>2003-12-03</th>\n",
              "      <td>1.209000</td>\n",
              "      <td>1.213003</td>\n",
              "      <td>1.207700</td>\n",
              "      <td>1.212298</td>\n",
              "      <td>1.212298</td>\n",
              "      <td>0</td>\n",
              "    </tr>\n",
              "    <tr>\n",
              "      <th>2003-12-04</th>\n",
              "      <td>1.212004</td>\n",
              "      <td>1.214403</td>\n",
              "      <td>1.204398</td>\n",
              "      <td>1.208094</td>\n",
              "      <td>1.208094</td>\n",
              "      <td>0</td>\n",
              "    </tr>\n",
              "    <tr>\n",
              "      <th>2003-12-05</th>\n",
              "      <td>1.207802</td>\n",
              "      <td>1.219096</td>\n",
              "      <td>1.206593</td>\n",
              "      <td>1.218695</td>\n",
              "      <td>1.218695</td>\n",
              "      <td>0</td>\n",
              "    </tr>\n",
              "    <tr>\n",
              "      <th>...</th>\n",
              "      <td>...</td>\n",
              "      <td>...</td>\n",
              "      <td>...</td>\n",
              "      <td>...</td>\n",
              "      <td>...</td>\n",
              "      <td>...</td>\n",
              "    </tr>\n",
              "    <tr>\n",
              "      <th>2021-07-30</th>\n",
              "      <td>1.189202</td>\n",
              "      <td>1.191100</td>\n",
              "      <td>1.185550</td>\n",
              "      <td>1.189300</td>\n",
              "      <td>1.189300</td>\n",
              "      <td>0</td>\n",
              "    </tr>\n",
              "    <tr>\n",
              "      <th>2021-08-02</th>\n",
              "      <td>1.186535</td>\n",
              "      <td>1.189900</td>\n",
              "      <td>1.185958</td>\n",
              "      <td>1.186704</td>\n",
              "      <td>1.186704</td>\n",
              "      <td>0</td>\n",
              "    </tr>\n",
              "    <tr>\n",
              "      <th>2021-08-03</th>\n",
              "      <td>1.187493</td>\n",
              "      <td>1.189600</td>\n",
              "      <td>1.185565</td>\n",
              "      <td>1.187465</td>\n",
              "      <td>1.187465</td>\n",
              "      <td>0</td>\n",
              "    </tr>\n",
              "    <tr>\n",
              "      <th>2021-08-04</th>\n",
              "      <td>1.186915</td>\n",
              "      <td>1.190200</td>\n",
              "      <td>1.183432</td>\n",
              "      <td>1.186944</td>\n",
              "      <td>1.186944</td>\n",
              "      <td>0</td>\n",
              "    </tr>\n",
              "    <tr>\n",
              "      <th>2021-08-05</th>\n",
              "      <td>1.183992</td>\n",
              "      <td>1.185901</td>\n",
              "      <td>1.182984</td>\n",
              "      <td>1.183740</td>\n",
              "      <td>1.183740</td>\n",
              "      <td>0</td>\n",
              "    </tr>\n",
              "  </tbody>\n",
              "</table>\n",
              "<p>4565 rows × 6 columns</p>\n",
              "</div>"
            ],
            "text/plain": [
              "                Open      High       Low     Close  Adj Close  Volume\n",
              "Date                                                                 \n",
              "2003-12-01  1.203398  1.204007  1.194401  1.196501   1.196501       0\n",
              "2003-12-02  1.196101  1.210903  1.194600  1.208897   1.208897       0\n",
              "2003-12-03  1.209000  1.213003  1.207700  1.212298   1.212298       0\n",
              "2003-12-04  1.212004  1.214403  1.204398  1.208094   1.208094       0\n",
              "2003-12-05  1.207802  1.219096  1.206593  1.218695   1.218695       0\n",
              "...              ...       ...       ...       ...        ...     ...\n",
              "2021-07-30  1.189202  1.191100  1.185550  1.189300   1.189300       0\n",
              "2021-08-02  1.186535  1.189900  1.185958  1.186704   1.186704       0\n",
              "2021-08-03  1.187493  1.189600  1.185565  1.187465   1.187465       0\n",
              "2021-08-04  1.186915  1.190200  1.183432  1.186944   1.186944       0\n",
              "2021-08-05  1.183992  1.185901  1.182984  1.183740   1.183740       0\n",
              "\n",
              "[4565 rows x 6 columns]"
            ]
          },
          "metadata": {},
          "execution_count": 113
        }
      ]
    },
    {
      "cell_type": "code",
      "metadata": {
        "colab": {
          "base_uri": "https://localhost:8080/"
        },
        "id": "EA0sUo4GgIQa",
        "outputId": "d1b88ba2-103b-46b7-9f79-3a62fc365c96"
      },
      "source": [
        "data.shape"
      ],
      "execution_count": null,
      "outputs": [
        {
          "output_type": "execute_result",
          "data": {
            "text/plain": [
              "(4565, 6)"
            ]
          },
          "metadata": {},
          "execution_count": 114
        }
      ]
    },
    {
      "cell_type": "code",
      "metadata": {
        "colab": {
          "base_uri": "https://localhost:8080/",
          "height": 558
        },
        "id": "3QOxJlhTgPvF",
        "outputId": "527ebc2b-eaad-4f19-ff0a-4dd650b244ff"
      },
      "source": [
        "plt.figure(figsize=(16,8))\n",
        "plt.title('Close Price History')\n",
        "plt.plot(data['Close'])\n",
        "plt.xlabel('Date',fontsize=18)\n",
        "plt.ylabel('Close Price USD ($)', fontsize=18)\n",
        "plt.show()"
      ],
      "execution_count": null,
      "outputs": [
        {
          "output_type": "display_data",
          "data": {
            "image/png": "[encoded data removed]",
            "text/plain": [
              "<Figure size 1152x576 with 1 Axes>"
            ]
          },
          "metadata": {}
        }
      ]
    },
    {
      "cell_type": "code",
      "metadata": {
        "colab": {
          "base_uri": "https://localhost:8080/"
        },
        "id": "VQbruWBhhO_Y",
        "outputId": "c7585013-0ce0-4a37-e1d2-9aef6c51d5da"
      },
      "source": [
        "df_close = data.filter(['Close'])\n",
        "close_list = df_close.values\n",
        "training_data_len = math.ceil(len(close_list) * 0.8)\n",
        "training_data_len\n"
      ],
      "execution_count": null,
      "outputs": [
        {
          "output_type": "execute_result",
          "data": {
            "text/plain": [
              "3652"
            ]
          },
          "metadata": {},
          "execution_count": 116
        }
      ]
    },
    {
      "cell_type": "markdown",
      "metadata": {
        "id": "vNyhces8iBwI"
      },
      "source": [
        "Scaling the Data"
      ]
    },
    {
      "cell_type": "code",
      "metadata": {
        "colab": {
          "base_uri": "https://localhost:8080/"
        },
        "id": "NP0ALdhlh-iG",
        "outputId": "4b0ebe69-e914-42b5-83e2-373f9500ae58"
      },
      "source": [
        "scaler = MinMaxScaler(feature_range=(0,1))\n",
        "scaler_data = scaler.fit_transform(close_list)\n",
        "scaler_data"
      ],
      "execution_count": null,
      "outputs": [
        {
          "output_type": "execute_result",
          "data": {
            "text/plain": [
              "array([[0.28129324],\n",
              "       [0.303439  ],\n",
              "       [0.30951329],\n",
              "       ...,\n",
              "       [0.26514979],\n",
              "       [0.26421827],\n",
              "       [0.25849516]])"
            ]
          },
          "metadata": {},
          "execution_count": 117
        }
      ]
    },
    {
      "cell_type": "code",
      "metadata": {
        "colab": {
          "base_uri": "https://localhost:8080/"
        },
        "id": "QlgdrA8Hiz-P",
        "outputId": "bac2d20e-ffd8-45c2-e26c-7469f0acd4f0"
      },
      "source": [
        "train_data = scaler_data[0:training_data_len, :]\n",
        "x_train = []\n",
        "y_train = []\n",
        "\n",
        "for i in range(14, len(train_data)):\n",
        "  x_train.append(train_data[i - 14:i,0])\n",
        "  y_train.append(train_data[i,0])\n",
        "  if i <= 15:\n",
        "    print(x_train)\n",
        "    print(y_train)\n",
        "    print()"
      ],
      "execution_count": null,
      "outputs": [
        {
          "output_type": "stream",
          "text": [
            "[array([0.28129324, 0.303439  , 0.30951329, 0.30200401, 0.32094182,\n",
            "       0.32684851, 0.332197  , 0.32165868, 0.32756898, 0.33738322,\n",
            "       0.34470742, 0.34505988, 0.35936563, 0.36310898])]\n",
            "[0.3563195355920643]\n",
            "\n",
            "[array([0.28129324, 0.303439  , 0.30951329, 0.30200401, 0.32094182,\n",
            "       0.32684851, 0.332197  , 0.32165868, 0.32756898, 0.33738322,\n",
            "       0.34470742, 0.34505988, 0.35936563, 0.36310898]), array([0.303439  , 0.30951329, 0.30200401, 0.32094182, 0.32684851,\n",
            "       0.332197  , 0.32165868, 0.32756898, 0.33738322, 0.34470742,\n",
            "       0.34505988, 0.35936563, 0.36310898, 0.35631954])]\n",
            "[0.3563195355920643, 0.3588161669605989]\n",
            "\n"
          ],
          "name": "stdout"
        }
      ]
    },
    {
      "cell_type": "code",
      "metadata": {
        "id": "FIe_nuY-k9NR"
      },
      "source": [
        "x_train, y_train = np.array(x_train), np.array(y_train)"
      ],
      "execution_count": null,
      "outputs": []
    },
    {
      "cell_type": "code",
      "metadata": {
        "colab": {
          "base_uri": "https://localhost:8080/"
        },
        "id": "wW7D1hy9lMpc",
        "outputId": "b2f1dba8-ac21-4d85-cb26-24dc49ef2933"
      },
      "source": [
        "x_train = np.reshape(x_train, (x_train.shape[0],x_train.shape[1],1))\n",
        "x_train.shape"
      ],
      "execution_count": null,
      "outputs": [
        {
          "output_type": "execute_result",
          "data": {
            "text/plain": [
              "(3638, 14, 1)"
            ]
          },
          "metadata": {},
          "execution_count": 120
        }
      ]
    },
    {
      "cell_type": "code",
      "metadata": {
        "id": "a1KcQNKyl14s"
      },
      "source": [
        "model = Sequential()\n",
        "model.add(LSTM(50,return_sequences= True, input_shape = (x_train.shape[1],1)))\n",
        "model.add(LSTM(50,return_sequences= False))\n",
        "model.add(Dense(25))\n",
        "model.add(Dense(1))"
      ],
      "execution_count": null,
      "outputs": []
    },
    {
      "cell_type": "code",
      "metadata": {
        "id": "hE8Yq6cVmov3"
      },
      "source": [
        "model.compile(optimizer='adam',loss='mean_squared_error')"
      ],
      "execution_count": null,
      "outputs": []
    },
    {
      "cell_type": "code",
      "metadata": {
        "colab": {
          "base_uri": "https://localhost:8080/"
        },
        "id": "e_Llao3JmzPv",
        "outputId": "74045ce4-3a0b-4b77-f230-9c855a7437ac"
      },
      "source": [
        "model.fit(x_train, y_train, batch_size=10, epochs=10)"
      ],
      "execution_count": null,
      "outputs": [
        {
          "output_type": "stream",
          "text": [
            "Epoch 1/10\n",
            "364/364 [==============================] - 9s 15ms/step - loss: 0.0035\n",
            "Epoch 2/10\n",
            "364/364 [==============================] - 5s 14ms/step - loss: 0.0010\n",
            "Epoch 3/10\n",
            "364/364 [==============================] - 5s 15ms/step - loss: 9.2902e-04\n",
            "Epoch 4/10\n",
            "364/364 [==============================] - 5s 14ms/step - loss: 7.4101e-04\n",
            "Epoch 5/10\n",
            "364/364 [==============================] - 5s 14ms/step - loss: 6.4810e-04\n",
            "Epoch 6/10\n",
            "364/364 [==============================] - 5s 14ms/step - loss: 5.4856e-04\n",
            "Epoch 7/10\n",
            "364/364 [==============================] - 5s 14ms/step - loss: 5.4502e-04\n",
            "Epoch 8/10\n",
            "364/364 [==============================] - 5s 14ms/step - loss: 4.9054e-04\n",
            "Epoch 9/10\n",
            "364/364 [==============================] - 5s 14ms/step - loss: 4.9413e-04\n",
            "Epoch 10/10\n",
            "364/364 [==============================] - 5s 14ms/step - loss: 4.5502e-04\n"
          ],
          "name": "stdout"
        },
        {
          "output_type": "execute_result",
          "data": {
            "text/plain": [
              "<keras.callbacks.History at 0x7f29d3b9ee90>"
            ]
          },
          "metadata": {},
          "execution_count": 123
        }
      ]
    },
    {
      "cell_type": "code",
      "metadata": {
        "id": "Y8IkgfLMojyC"
      },
      "source": [
        "test_data = scaler_data[training_data_len - 14: , : ]\n",
        "x_test = []\n",
        "y_test = close_list[training_data_len:, :]\n",
        "for i in range(14, len(test_data)):\n",
        "  x_test.append(test_data[i - 14:i, 0])\n"
      ],
      "execution_count": null,
      "outputs": []
    },
    {
      "cell_type": "code",
      "metadata": {
        "id": "lD6WMoFDpnIW"
      },
      "source": [
        "x_test = np.array(x_test)"
      ],
      "execution_count": null,
      "outputs": []
    },
    {
      "cell_type": "code",
      "metadata": {
        "colab": {
          "base_uri": "https://localhost:8080/"
        },
        "id": "8ms2OH_tpsrq",
        "outputId": "93d125a6-2211-491b-b32c-5adb287b4d65"
      },
      "source": [
        "x_test = np.reshape(x_test,(x_test.shape[0], x_test.shape[1],1))\n",
        "x_test.shape"
      ],
      "execution_count": null,
      "outputs": [
        {
          "output_type": "execute_result",
          "data": {
            "text/plain": [
              "(913, 14, 1)"
            ]
          },
          "metadata": {},
          "execution_count": 126
        }
      ]
    },
    {
      "cell_type": "code",
      "metadata": {
        "id": "1yzOXMunqKs7"
      },
      "source": [
        "prediction = model.predict(x_test)\n",
        "prediction = scaler.inverse_transform(prediction)"
      ],
      "execution_count": null,
      "outputs": []
    },
    {
      "cell_type": "code",
      "metadata": {
        "colab": {
          "base_uri": "https://localhost:8080/"
        },
        "id": "JE4R5-jXq7D3",
        "outputId": "f60d1d53-4857-468d-acd0-7f48f49d0871"
      },
      "source": [
        "rmse = np.sqrt(np.mean(prediction - y_test)**2)\n",
        "rmse"
      ],
      "execution_count": null,
      "outputs": [
        {
          "output_type": "execute_result",
          "data": {
            "text/plain": [
              "0.0032296370049818193"
            ]
          },
          "metadata": {},
          "execution_count": 128
        }
      ]
    },
    {
      "cell_type": "code",
      "metadata": {
        "colab": {
          "base_uri": "https://localhost:8080/",
          "height": 659
        },
        "id": "A0vD2SW9rWi4",
        "outputId": "5b960c33-e461-41bd-9fd7-3fa5de6248cd"
      },
      "source": [
        "train = data[:training_data_len]['Close']\n",
        "valid = data[training_data_len:]['Close']\n",
        "valid['Predictions'] = prediction\n",
        "\n",
        "plt.figure(figsize=(16,8))\n",
        "plt.title('Model')\n",
        "plt.xlabel('Data')\n",
        "plt.ylabel('Close Price')\n",
        "plt.plot(train['Close'])\n",
        "plt.plot(valid[['Close','Predictions']])\n",
        "plt.legend(['Train','Val','Predictions'])\n",
        "plt.show()"
      ],
      "execution_count": null,
      "outputs": [
        {
          "output_type": "stream",
          "text": [
            "/usr/local/lib/python3.7/dist-packages/ipykernel_launcher.py:3: SettingWithCopyWarning: \n",
            "A value is trying to be set on a copy of a slice from a DataFrame.\n",
            "Try using .loc[row_indexer,col_indexer] = value instead\n",
            "\n",
            "See the caveats in the documentation: https://pandas.pydata.org/pandas-docs/stable/user_guide/indexing.html#returning-a-view-versus-a-copy\n",
            "  This is separate from the ipykernel package so we can avoid doing imports until\n"
          ],
          "name": "stderr"
        },
        {
          "output_type": "display_data",
          "data": {
            "image/png": "[encoded data removed]",
            "text/plain": [
              "<Figure size 1152x576 with 1 Axes>"
            ]
          },
          "metadata": {}
        }
      ]
    },
    {
      "cell_type": "code",
      "metadata": {
        "colab": {
          "base_uri": "https://localhost:8080/",
          "height": 965
        },
        "id": "f5343X0cskEL",
        "outputId": "e3279eb4-ca78-49a1-fd2c-dad392fe661e"
      },
      "source": [
        "valid.tail(30)"
      ],
      "execution_count": null,
      "outputs": [
        {
          "output_type": "execute_result",
          "data": {
            "text/html": [
              "<div>\n",
              "<style scoped>\n",
              "    .dataframe tbody tr th:only-of-type {\n",
              "        vertical-align: middle;\n",
              "    }\n",
              "\n",
              "    .dataframe tbody tr th {\n",
              "        vertical-align: top;\n",
              "    }\n",
              "\n",
              "    .dataframe thead th {\n",
              "        text-align: right;\n",
              "    }\n",
              "</style>\n",
              "<table border=\"1\" class=\"dataframe\">\n",
              "  <thead>\n",
              "    <tr style=\"text-align: right;\">\n",
              "      <th></th>\n",
              "      <th>Open</th>\n",
              "      <th>High</th>\n",
              "      <th>Low</th>\n",
              "      <th>Close</th>\n",
              "      <th>Adj Close</th>\n",
              "      <th>Volume</th>\n",
              "      <th>Predictions</th>\n",
              "    </tr>\n",
              "    <tr>\n",
              "      <th>Date</th>\n",
              "      <th></th>\n",
              "      <th></th>\n",
              "      <th></th>\n",
              "      <th></th>\n",
              "      <th></th>\n",
              "      <th></th>\n",
              "      <th></th>\n",
              "    </tr>\n",
              "  </thead>\n",
              "  <tbody>\n",
              "    <tr>\n",
              "      <th>2021-06-25</th>\n",
              "      <td>1.192791</td>\n",
              "      <td>1.197447</td>\n",
              "      <td>1.192791</td>\n",
              "      <td>1.193033</td>\n",
              "      <td>1.193033</td>\n",
              "      <td>0</td>\n",
              "      <td>1.189504</td>\n",
              "    </tr>\n",
              "    <tr>\n",
              "      <th>2021-06-28</th>\n",
              "      <td>1.194215</td>\n",
              "      <td>1.194600</td>\n",
              "      <td>1.190462</td>\n",
              "      <td>1.194215</td>\n",
              "      <td>1.194215</td>\n",
              "      <td>0</td>\n",
              "      <td>1.190061</td>\n",
              "    </tr>\n",
              "    <tr>\n",
              "      <th>2021-06-29</th>\n",
              "      <td>1.193033</td>\n",
              "      <td>1.193033</td>\n",
              "      <td>1.188044</td>\n",
              "      <td>1.192890</td>\n",
              "      <td>1.192890</td>\n",
              "      <td>0</td>\n",
              "      <td>1.190773</td>\n",
              "    </tr>\n",
              "    <tr>\n",
              "      <th>2021-06-30</th>\n",
              "      <td>1.189994</td>\n",
              "      <td>1.191043</td>\n",
              "      <td>1.184582</td>\n",
              "      <td>1.190193</td>\n",
              "      <td>1.190193</td>\n",
              "      <td>0</td>\n",
              "      <td>1.190535</td>\n",
              "    </tr>\n",
              "    <tr>\n",
              "      <th>2021-07-01</th>\n",
              "      <td>1.185536</td>\n",
              "      <td>1.188399</td>\n",
              "      <td>1.183810</td>\n",
              "      <td>1.185677</td>\n",
              "      <td>1.185677</td>\n",
              "      <td>0</td>\n",
              "      <td>1.188935</td>\n",
              "    </tr>\n",
              "    <tr>\n",
              "      <th>2021-07-02</th>\n",
              "      <td>1.184708</td>\n",
              "      <td>1.186099</td>\n",
              "      <td>1.181935</td>\n",
              "      <td>1.184624</td>\n",
              "      <td>1.184624</td>\n",
              "      <td>0</td>\n",
              "      <td>1.185691</td>\n",
              "    </tr>\n",
              "    <tr>\n",
              "      <th>2021-07-05</th>\n",
              "      <td>1.185593</td>\n",
              "      <td>1.188200</td>\n",
              "      <td>1.185201</td>\n",
              "      <td>1.185621</td>\n",
              "      <td>1.185621</td>\n",
              "      <td>0</td>\n",
              "      <td>1.183101</td>\n",
              "    </tr>\n",
              "    <tr>\n",
              "      <th>2021-07-06</th>\n",
              "      <td>1.186150</td>\n",
              "      <td>1.189626</td>\n",
              "      <td>1.181500</td>\n",
              "      <td>1.186380</td>\n",
              "      <td>1.186380</td>\n",
              "      <td>0</td>\n",
              "      <td>1.182209</td>\n",
              "    </tr>\n",
              "    <tr>\n",
              "      <th>2021-07-07</th>\n",
              "      <td>1.182033</td>\n",
              "      <td>1.184133</td>\n",
              "      <td>1.178245</td>\n",
              "      <td>1.182452</td>\n",
              "      <td>1.182452</td>\n",
              "      <td>0</td>\n",
              "      <td>1.182381</td>\n",
              "    </tr>\n",
              "    <tr>\n",
              "      <th>2021-07-08</th>\n",
              "      <td>1.179357</td>\n",
              "      <td>1.186634</td>\n",
              "      <td>1.178425</td>\n",
              "      <td>1.179340</td>\n",
              "      <td>1.179340</td>\n",
              "      <td>0</td>\n",
              "      <td>1.180959</td>\n",
              "    </tr>\n",
              "    <tr>\n",
              "      <th>2021-07-09</th>\n",
              "      <td>1.184694</td>\n",
              "      <td>1.187465</td>\n",
              "      <td>1.182522</td>\n",
              "      <td>1.184800</td>\n",
              "      <td>1.184800</td>\n",
              "      <td>0</td>\n",
              "      <td>1.178520</td>\n",
              "    </tr>\n",
              "    <tr>\n",
              "      <th>2021-07-12</th>\n",
              "      <td>1.187366</td>\n",
              "      <td>1.188213</td>\n",
              "      <td>1.183670</td>\n",
              "      <td>1.187296</td>\n",
              "      <td>1.187296</td>\n",
              "      <td>0</td>\n",
              "      <td>1.179451</td>\n",
              "    </tr>\n",
              "    <tr>\n",
              "      <th>2021-07-13</th>\n",
              "      <td>1.186493</td>\n",
              "      <td>1.187790</td>\n",
              "      <td>1.179343</td>\n",
              "      <td>1.186521</td>\n",
              "      <td>1.186521</td>\n",
              "      <td>0</td>\n",
              "      <td>1.181703</td>\n",
              "    </tr>\n",
              "    <tr>\n",
              "      <th>2021-07-14</th>\n",
              "      <td>1.177440</td>\n",
              "      <td>1.182801</td>\n",
              "      <td>1.177260</td>\n",
              "      <td>1.177537</td>\n",
              "      <td>1.177537</td>\n",
              "      <td>0</td>\n",
              "      <td>1.182874</td>\n",
              "    </tr>\n",
              "    <tr>\n",
              "      <th>2021-07-15</th>\n",
              "      <td>1.183334</td>\n",
              "      <td>1.185115</td>\n",
              "      <td>1.180596</td>\n",
              "      <td>1.183334</td>\n",
              "      <td>1.183334</td>\n",
              "      <td>0</td>\n",
              "      <td>1.179262</td>\n",
              "    </tr>\n",
              "    <tr>\n",
              "      <th>2021-07-16</th>\n",
              "      <td>1.181307</td>\n",
              "      <td>1.182300</td>\n",
              "      <td>1.179400</td>\n",
              "      <td>1.181181</td>\n",
              "      <td>1.181181</td>\n",
              "      <td>0</td>\n",
              "      <td>1.178969</td>\n",
              "    </tr>\n",
              "    <tr>\n",
              "      <th>2021-07-19</th>\n",
              "      <td>1.181154</td>\n",
              "      <td>1.182327</td>\n",
              "      <td>1.176429</td>\n",
              "      <td>1.181401</td>\n",
              "      <td>1.181401</td>\n",
              "      <td>0</td>\n",
              "      <td>1.178373</td>\n",
              "    </tr>\n",
              "    <tr>\n",
              "      <th>2021-07-20</th>\n",
              "      <td>1.179245</td>\n",
              "      <td>1.180401</td>\n",
              "      <td>1.175710</td>\n",
              "      <td>1.179384</td>\n",
              "      <td>1.179384</td>\n",
              "      <td>0</td>\n",
              "      <td>1.178111</td>\n",
              "    </tr>\n",
              "    <tr>\n",
              "      <th>2021-07-21</th>\n",
              "      <td>1.178550</td>\n",
              "      <td>1.180275</td>\n",
              "      <td>1.175364</td>\n",
              "      <td>1.178411</td>\n",
              "      <td>1.178411</td>\n",
              "      <td>0</td>\n",
              "      <td>1.177130</td>\n",
              "    </tr>\n",
              "    <tr>\n",
              "      <th>2021-07-22</th>\n",
              "      <td>1.179523</td>\n",
              "      <td>1.182984</td>\n",
              "      <td>1.176664</td>\n",
              "      <td>1.179273</td>\n",
              "      <td>1.179273</td>\n",
              "      <td>0</td>\n",
              "      <td>1.176035</td>\n",
              "    </tr>\n",
              "    <tr>\n",
              "      <th>2021-07-23</th>\n",
              "      <td>1.177357</td>\n",
              "      <td>1.178550</td>\n",
              "      <td>1.175599</td>\n",
              "      <td>1.177274</td>\n",
              "      <td>1.177274</td>\n",
              "      <td>0</td>\n",
              "      <td>1.175793</td>\n",
              "    </tr>\n",
              "    <tr>\n",
              "      <th>2021-07-26</th>\n",
              "      <td>1.177302</td>\n",
              "      <td>1.181754</td>\n",
              "      <td>1.176457</td>\n",
              "      <td>1.177343</td>\n",
              "      <td>1.177343</td>\n",
              "      <td>0</td>\n",
              "      <td>1.174922</td>\n",
              "    </tr>\n",
              "    <tr>\n",
              "      <th>2021-07-27</th>\n",
              "      <td>1.180638</td>\n",
              "      <td>1.183712</td>\n",
              "      <td>1.177177</td>\n",
              "      <td>1.180777</td>\n",
              "      <td>1.180777</td>\n",
              "      <td>0</td>\n",
              "      <td>1.174365</td>\n",
              "    </tr>\n",
              "    <tr>\n",
              "      <th>2021-07-28</th>\n",
              "      <td>1.182240</td>\n",
              "      <td>1.183012</td>\n",
              "      <td>1.178578</td>\n",
              "      <td>1.182313</td>\n",
              "      <td>1.182313</td>\n",
              "      <td>0</td>\n",
              "      <td>1.175664</td>\n",
              "    </tr>\n",
              "    <tr>\n",
              "      <th>2021-07-29</th>\n",
              "      <td>1.184680</td>\n",
              "      <td>1.189202</td>\n",
              "      <td>1.184175</td>\n",
              "      <td>1.184596</td>\n",
              "      <td>1.184596</td>\n",
              "      <td>0</td>\n",
              "      <td>1.177437</td>\n",
              "    </tr>\n",
              "    <tr>\n",
              "      <th>2021-07-30</th>\n",
              "      <td>1.189202</td>\n",
              "      <td>1.191100</td>\n",
              "      <td>1.185550</td>\n",
              "      <td>1.189300</td>\n",
              "      <td>1.189300</td>\n",
              "      <td>0</td>\n",
              "      <td>1.179539</td>\n",
              "    </tr>\n",
              "    <tr>\n",
              "      <th>2021-08-02</th>\n",
              "      <td>1.186535</td>\n",
              "      <td>1.189900</td>\n",
              "      <td>1.185958</td>\n",
              "      <td>1.186704</td>\n",
              "      <td>1.186704</td>\n",
              "      <td>0</td>\n",
              "      <td>1.182880</td>\n",
              "    </tr>\n",
              "    <tr>\n",
              "      <th>2021-08-03</th>\n",
              "      <td>1.187493</td>\n",
              "      <td>1.189600</td>\n",
              "      <td>1.185565</td>\n",
              "      <td>1.187465</td>\n",
              "      <td>1.187465</td>\n",
              "      <td>0</td>\n",
              "      <td>1.183755</td>\n",
              "    </tr>\n",
              "    <tr>\n",
              "      <th>2021-08-04</th>\n",
              "      <td>1.186915</td>\n",
              "      <td>1.190200</td>\n",
              "      <td>1.183432</td>\n",
              "      <td>1.186944</td>\n",
              "      <td>1.186944</td>\n",
              "      <td>0</td>\n",
              "      <td>1.184122</td>\n",
              "    </tr>\n",
              "    <tr>\n",
              "      <th>2021-08-05</th>\n",
              "      <td>1.183992</td>\n",
              "      <td>1.185901</td>\n",
              "      <td>1.182984</td>\n",
              "      <td>1.183740</td>\n",
              "      <td>1.183740</td>\n",
              "      <td>0</td>\n",
              "      <td>1.183915</td>\n",
              "    </tr>\n",
              "  </tbody>\n",
              "</table>\n",
              "</div>"
            ],
            "text/plain": [
              "                Open      High       Low  ...  Adj Close  Volume  Predictions\n",
              "Date                                      ...                                \n",
              "2021-06-25  1.192791  1.197447  1.192791  ...   1.193033       0     1.189504\n",
              "2021-06-28  1.194215  1.194600  1.190462  ...   1.194215       0     1.190061\n",
              "2021-06-29  1.193033  1.193033  1.188044  ...   1.192890       0     1.190773\n",
              "2021-06-30  1.189994  1.191043  1.184582  ...   1.190193       0     1.190535\n",
              "2021-07-01  1.185536  1.188399  1.183810  ...   1.185677       0     1.188935\n",
              "2021-07-02  1.184708  1.186099  1.181935  ...   1.184624       0     1.185691\n",
              "2021-07-05  1.185593  1.188200  1.185201  ...   1.185621       0     1.183101\n",
              "2021-07-06  1.186150  1.189626  1.181500  ...   1.186380       0     1.182209\n",
              "2021-07-07  1.182033  1.184133  1.178245  ...   1.182452       0     1.182381\n",
              "2021-07-08  1.179357  1.186634  1.178425  ...   1.179340       0     1.180959\n",
              "2021-07-09  1.184694  1.187465  1.182522  ...   1.184800       0     1.178520\n",
              "2021-07-12  1.187366  1.188213  1.183670  ...   1.187296       0     1.179451\n",
              "2021-07-13  1.186493  1.187790  1.179343  ...   1.186521       0     1.181703\n",
              "2021-07-14  1.177440  1.182801  1.177260  ...   1.177537       0     1.182874\n",
              "2021-07-15  1.183334  1.185115  1.180596  ...   1.183334       0     1.179262\n",
              "2021-07-16  1.181307  1.182300  1.179400  ...   1.181181       0     1.178969\n",
              "2021-07-19  1.181154  1.182327  1.176429  ...   1.181401       0     1.178373\n",
              "2021-07-20  1.179245  1.180401  1.175710  ...   1.179384       0     1.178111\n",
              "2021-07-21  1.178550  1.180275  1.175364  ...   1.178411       0     1.177130\n",
              "2021-07-22  1.179523  1.182984  1.176664  ...   1.179273       0     1.176035\n",
              "2021-07-23  1.177357  1.178550  1.175599  ...   1.177274       0     1.175793\n",
              "2021-07-26  1.177302  1.181754  1.176457  ...   1.177343       0     1.174922\n",
              "2021-07-27  1.180638  1.183712  1.177177  ...   1.180777       0     1.174365\n",
              "2021-07-28  1.182240  1.183012  1.178578  ...   1.182313       0     1.175664\n",
              "2021-07-29  1.184680  1.189202  1.184175  ...   1.184596       0     1.177437\n",
              "2021-07-30  1.189202  1.191100  1.185550  ...   1.189300       0     1.179539\n",
              "2021-08-02  1.186535  1.189900  1.185958  ...   1.186704       0     1.182880\n",
              "2021-08-03  1.187493  1.189600  1.185565  ...   1.187465       0     1.183755\n",
              "2021-08-04  1.186915  1.190200  1.183432  ...   1.186944       0     1.184122\n",
              "2021-08-05  1.183992  1.185901  1.182984  ...   1.183740       0     1.183915\n",
              "\n",
              "[30 rows x 7 columns]"
            ]
          },
          "metadata": {},
          "execution_count": 130
        }
      ]
    },
    {
      "cell_type": "code",
      "metadata": {
        "colab": {
          "base_uri": "https://localhost:8080/"
        },
        "id": "_l8_iwJgvSkE",
        "outputId": "02def1f6-b19c-462f-a306-e9dad345c3d6"
      },
      "source": [
        "last_60_days = df_close[-14:].values\n",
        "last_60_days_scaled = scaler.transform(last_60_days)\n",
        "X_test = []\n",
        "X_test.append(last_60_days_scaled)\n",
        "X_test = np.array(X_test)\n",
        "X_test = np.reshape(X_test, (X_test.shape[0], X_test.shape[1],1))\n",
        "pred_price = model.predict(X_test)\n",
        "pred_price = scaler.inverse_transform(pred_price)\n",
        "print(pred_price)"
      ],
      "execution_count": null,
      "outputs": [
        {
          "output_type": "stream",
          "text": [
            "[[1.1822144]]\n"
          ],
          "name": "stdout"
        }
      ]
    }
  ]
}